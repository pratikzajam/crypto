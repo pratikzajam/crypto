{
 "cells": [
  {
   "cell_type": "code",
   "execution_count": 2,
   "id": "6462f2f8",
   "metadata": {},
   "outputs": [],
   "source": [
    "import hashlib"
   ]
  },
  {
   "cell_type": "code",
   "execution_count": 4,
   "id": "f6e6ef4c",
   "metadata": {},
   "outputs": [
    {
     "name": "stdout",
     "output_type": "stream",
     "text": [
      "Enter Password:Kirticollege999\n"
     ]
    },
    {
     "data": {
      "text/plain": [
       "'Kirticollege999'"
      ]
     },
     "execution_count": 4,
     "metadata": {},
     "output_type": "execute_result"
    }
   ],
   "source": [
    "password= input(\"Enter Password:\")\n",
    "password"
   ]
  },
  {
   "cell_type": "code",
   "execution_count": 6,
   "id": "a151a1b8",
   "metadata": {},
   "outputs": [
    {
     "name": "stdout",
     "output_type": "stream",
     "text": [
      "Enter salt value:kirti\n"
     ]
    },
    {
     "data": {
      "text/plain": [
       "'kirti'"
      ]
     },
     "execution_count": 6,
     "metadata": {},
     "output_type": "execute_result"
    }
   ],
   "source": [
    "salt = input('Enter salt value:')\n",
    "salt"
   ]
  },
  {
   "cell_type": "code",
   "execution_count": 7,
   "id": "f6802217",
   "metadata": {},
   "outputs": [
    {
     "data": {
      "text/plain": [
       "'Kirticollege999kirti'"
      ]
     },
     "execution_count": 7,
     "metadata": {},
     "output_type": "execute_result"
    }
   ],
   "source": [
    "salted_pw = password + salt\n",
    "salted_pw"
   ]
  },
  {
   "cell_type": "code",
   "execution_count": 8,
   "id": "277c62a5",
   "metadata": {},
   "outputs": [
    {
     "data": {
      "text/plain": [
       "<md5 _hashlib.HASH object @ 0x0000026467852F90>"
      ]
     },
     "execution_count": 8,
     "metadata": {},
     "output_type": "execute_result"
    }
   ],
   "source": [
    "hashed_pw = hashlib.md5(salted_pw.encode())\n",
    "hashed_pw"
   ]
  },
  {
   "cell_type": "code",
   "execution_count": 9,
   "id": "ab648c72",
   "metadata": {},
   "outputs": [
    {
     "name": "stdout",
     "output_type": "stream",
     "text": [
      "3337c853fcfd956ca505ffc27e75c87a\n"
     ]
    }
   ],
   "source": [
    "print(hashed_pw.hexdigest())"
   ]
  }
 ],
 "metadata": {
  "kernelspec": {
   "display_name": "Python 3 (ipykernel)",
   "language": "python",
   "name": "python3"
  },
  "language_info": {
   "codemirror_mode": {
    "name": "ipython",
    "version": 3
   },
   "file_extension": ".py",
   "mimetype": "text/x-python",
   "name": "python",
   "nbconvert_exporter": "python",
   "pygments_lexer": "ipython3",
   "version": "3.10.8"
  }
 },
 "nbformat": 4,
 "nbformat_minor": 5
}
