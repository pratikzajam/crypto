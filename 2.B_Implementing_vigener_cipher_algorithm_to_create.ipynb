{
 "cells": [
  {
   "cell_type": "code",
   "execution_count": 4,
   "id": "44f31bdf",
   "metadata": {},
   "outputs": [],
   "source": [
    "def generateKey(string, key):\n",
    "    key = list(key)\n",
    "    if (len(string) == len(key)):\n",
    "        return(key)\n",
    "    else:\n",
    "        for i in range(len(string) - len(key)):\n",
    "            key.append(key[i % len(key)])\n",
    "    return(\"\".join(key))\n"
   ]
  },
  {
   "cell_type": "code",
   "execution_count": 5,
   "id": "29973399",
   "metadata": {},
   "outputs": [
    {
     "data": {
      "text/plain": [
       "'KIRTIKIRTIKI'"
      ]
     },
     "execution_count": 5,
     "metadata": {},
     "output_type": "execute_result"
    }
   ],
   "source": [
    "answer = generateKey('CRYPTOGRAPHY', 'KIRTI')\n",
    "answer"
   ]
  },
  {
   "cell_type": "code",
   "execution_count": 6,
   "id": "5cf40c5f",
   "metadata": {},
   "outputs": [],
   "source": [
    "def cipherText(string, key):\n",
    "    cipher_text = []\n",
    "    for i in range(len(string)):\n",
    "        x = (ord(string[i]) + ord(key[i])) % 26\n",
    "        x += ord('A')\n",
    "        cipher_text.append(chr(x))\n",
    "    return(\"\".join(cipher_text))"
   ]
  },
  {
   "cell_type": "code",
   "execution_count": 7,
   "id": "2d8123e0",
   "metadata": {},
   "outputs": [
    {
     "name": "stdout",
     "output_type": "stream",
     "text": [
      "Enter Text: KIRTIPRCT23\n"
     ]
    },
    {
     "data": {
      "text/plain": [
       "'KIRTIPRCT23'"
      ]
     },
     "execution_count": 7,
     "metadata": {},
     "output_type": "execute_result"
    }
   ],
   "source": [
    "string = input('Enter Text: ')\n",
    "string"
   ]
  },
  {
   "cell_type": "code",
   "execution_count": 8,
   "id": "6fa9778c",
   "metadata": {},
   "outputs": [
    {
     "name": "stdout",
     "output_type": "stream",
     "text": [
      "Enter Key: kirti\n"
     ]
    },
    {
     "data": {
      "text/plain": [
       "'kirti'"
      ]
     },
     "execution_count": 8,
     "metadata": {},
     "output_type": "execute_result"
    }
   ],
   "source": [
    "keyword = input('Enter Key: ')\n",
    "keyword\n"
   ]
  },
  {
   "cell_type": "code",
   "execution_count": 9,
   "id": "b07053e9",
   "metadata": {},
   "outputs": [
    {
     "data": {
      "text/plain": [
       "'kirtikirtik'"
      ]
     },
     "execution_count": 9,
     "metadata": {},
     "output_type": "execute_result"
    }
   ],
   "source": [
    "key = generateKey(string, keyword)\n",
    "key"
   ]
  },
  {
   "cell_type": "code",
   "execution_count": 10,
   "id": "4f4a107b",
   "metadata": {},
   "outputs": [
    {
     "data": {
      "text/plain": [
       "'AWOSWFFZSZC'"
      ]
     },
     "execution_count": 10,
     "metadata": {},
     "output_type": "execute_result"
    }
   ],
   "source": [
    "cipher = cipherText(string, key)\n",
    "cipher\n"
   ]
  },
  {
   "cell_type": "code",
   "execution_count": 12,
   "id": "76d9e0e0",
   "metadata": {},
   "outputs": [
    {
     "name": "stdout",
     "output_type": "stream",
     "text": [
      "Plain Text:  KIRTIPRCT23\n"
     ]
    }
   ],
   "source": [
    "print('Plain Text: ', string)\n"
   ]
  },
  {
   "cell_type": "code",
   "execution_count": 13,
   "id": "c2d4550f",
   "metadata": {},
   "outputs": [
    {
     "name": "stdout",
     "output_type": "stream",
     "text": [
      "Cipher Text:  AWOSWFFZSZC\n"
     ]
    }
   ],
   "source": [
    "print('Cipher Text: ', cipher)\n"
   ]
  }
 ],
 "metadata": {
  "kernelspec": {
   "display_name": "Python 3 (ipykernel)",
   "language": "python",
   "name": "python3"
  },
  "language_info": {
   "codemirror_mode": {
    "name": "ipython",
    "version": 3
   },
   "file_extension": ".py",
   "mimetype": "text/x-python",
   "name": "python",
   "nbconvert_exporter": "python",
   "pygments_lexer": "ipython3",
   "version": "3.10.8"
  }
 },
 "nbformat": 4,
 "nbformat_minor": 5
}
