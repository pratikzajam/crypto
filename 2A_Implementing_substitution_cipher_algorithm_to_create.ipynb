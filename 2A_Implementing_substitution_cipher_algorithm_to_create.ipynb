{
 "cells": [
  {
   "cell_type": "code",
   "execution_count": 1,
   "id": "7290f775",
   "metadata": {},
   "outputs": [],
   "source": [
    "import string"
   ]
  },
  {
   "cell_type": "code",
   "execution_count": 2,
   "id": "68408eee",
   "metadata": {},
   "outputs": [
    {
     "data": {
      "text/plain": [
       "'abcdefghijklmnopqrstuvwxyzABCDEFGHIJKLMNOPQRSTUVWXYZ'"
      ]
     },
     "execution_count": 2,
     "metadata": {},
     "output_type": "execute_result"
    }
   ],
   "source": [
    "all_letters = string.ascii_letters\n",
    "all_letters"
   ]
  },
  {
   "cell_type": "code",
   "execution_count": 3,
   "id": "899debb9",
   "metadata": {},
   "outputs": [],
   "source": [
    "dict = {}"
   ]
  },
  {
   "cell_type": "code",
   "execution_count": 5,
   "id": "5b7d88aa",
   "metadata": {},
   "outputs": [],
   "source": [
    "key = 3"
   ]
  },
  {
   "cell_type": "code",
   "execution_count": 6,
   "id": "c2c97ae4",
   "metadata": {},
   "outputs": [],
   "source": [
    "for i in range(len(all_letters)):\n",
    " dict[all_letters[i]] = all_letters[(i + key) % len(all_letters)]"
   ]
  },
  {
   "cell_type": "code",
   "execution_count": 8,
   "id": "93c6c3e2",
   "metadata": {},
   "outputs": [
    {
     "data": {
      "text/plain": [
       "{'a': 'd',\n",
       " 'b': 'e',\n",
       " 'c': 'f',\n",
       " 'd': 'g',\n",
       " 'e': 'h',\n",
       " 'f': 'i',\n",
       " 'g': 'j',\n",
       " 'h': 'k',\n",
       " 'i': 'l',\n",
       " 'j': 'm',\n",
       " 'k': 'n',\n",
       " 'l': 'o',\n",
       " 'm': 'p',\n",
       " 'n': 'q',\n",
       " 'o': 'r',\n",
       " 'p': 's',\n",
       " 'q': 't',\n",
       " 'r': 'u',\n",
       " 's': 'v',\n",
       " 't': 'w',\n",
       " 'u': 'x',\n",
       " 'v': 'y',\n",
       " 'w': 'z',\n",
       " 'x': 'A',\n",
       " 'y': 'B',\n",
       " 'z': 'C',\n",
       " 'A': 'D',\n",
       " 'B': 'E',\n",
       " 'C': 'F',\n",
       " 'D': 'G',\n",
       " 'E': 'H',\n",
       " 'F': 'I',\n",
       " 'G': 'J',\n",
       " 'H': 'K',\n",
       " 'I': 'L',\n",
       " 'J': 'M',\n",
       " 'K': 'N',\n",
       " 'L': 'O',\n",
       " 'M': 'P',\n",
       " 'N': 'Q',\n",
       " 'O': 'R',\n",
       " 'P': 'S',\n",
       " 'Q': 'T',\n",
       " 'R': 'U',\n",
       " 'S': 'V',\n",
       " 'T': 'W',\n",
       " 'U': 'X',\n",
       " 'V': 'Y',\n",
       " 'W': 'Z',\n",
       " 'X': 'a',\n",
       " 'Y': 'b',\n",
       " 'Z': 'c'}"
      ]
     },
     "execution_count": 8,
     "metadata": {},
     "output_type": "execute_result"
    }
   ],
   "source": [
    "dict"
   ]
  },
  {
   "cell_type": "code",
   "execution_count": 9,
   "id": "2e7a23f5",
   "metadata": {},
   "outputs": [
    {
     "name": "stdout",
     "output_type": "stream",
     "text": [
      "Enter Text: Pratical99\n"
     ]
    },
    {
     "data": {
      "text/plain": [
       "'Pratical99'"
      ]
     },
     "execution_count": 9,
     "metadata": {},
     "output_type": "execute_result"
    }
   ],
   "source": [
    "plain_text = input('Enter Text: ')\n",
    "plain_text"
   ]
  },
  {
   "cell_type": "code",
   "execution_count": 11,
   "id": "0c67e43f",
   "metadata": {},
   "outputs": [],
   "source": [
    "cipher_text = []"
   ]
  },
  {
   "cell_type": "code",
   "execution_count": 13,
   "id": "042103cf",
   "metadata": {},
   "outputs": [],
   "source": [
    "for char in plain_text:\n",
    " if char in all_letters:\n",
    "     temp = dict[char]\n",
    "     cipher_text.append(temp)\n",
    " else:\n",
    "    temp = char\n",
    "    cipher_text.append(temp)\n"
   ]
  },
  {
   "cell_type": "code",
   "execution_count": 14,
   "id": "f1a4d1dd",
   "metadata": {},
   "outputs": [
    {
     "data": {
      "text/plain": [
       "'Sudwlfdo99'"
      ]
     },
     "execution_count": 14,
     "metadata": {},
     "output_type": "execute_result"
    }
   ],
   "source": [
    "cipher_text = \"\".join(cipher_text)\n",
    "cipher_text\n"
   ]
  },
  {
   "cell_type": "code",
   "execution_count": null,
   "id": "a855be17",
   "metadata": {},
   "outputs": [],
   "source": []
  }
 ],
 "metadata": {
  "kernelspec": {
   "display_name": "Python 3 (ipykernel)",
   "language": "python",
   "name": "python3"
  },
  "language_info": {
   "codemirror_mode": {
    "name": "ipython",
    "version": 3
   },
   "file_extension": ".py",
   "mimetype": "text/x-python",
   "name": "python",
   "nbconvert_exporter": "python",
   "pygments_lexer": "ipython3",
   "version": "3.10.8"
  }
 },
 "nbformat": 4,
 "nbformat_minor": 5
}
