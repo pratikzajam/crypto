{
 "cells": [
  {
   "cell_type": "code",
   "execution_count": 1,
   "id": "75d817bd",
   "metadata": {},
   "outputs": [],
   "source": [
    "import string"
   ]
  },
  {
   "cell_type": "code",
   "execution_count": 2,
   "id": "2b346afd",
   "metadata": {},
   "outputs": [
    {
     "data": {
      "text/plain": [
       "'abcdefghijklmnopqrstuvwxyzABCDEFGHIJKLMNOPQRSTUVWXYZ'"
      ]
     },
     "execution_count": 2,
     "metadata": {},
     "output_type": "execute_result"
    }
   ],
   "source": [
    "all_letters = string.ascii_letters\n",
    "all_letters"
   ]
  },
  {
   "cell_type": "code",
   "execution_count": 3,
   "id": "3d43ae98",
   "metadata": {},
   "outputs": [],
   "source": [
    "dict = {}\n"
   ]
  },
  {
   "cell_type": "code",
   "execution_count": 4,
   "id": "6f7aea95",
   "metadata": {},
   "outputs": [],
   "source": [
    "key = 3"
   ]
  },
  {
   "cell_type": "code",
   "execution_count": 5,
   "id": "fc4aef07",
   "metadata": {},
   "outputs": [],
   "source": [
    "for i in range(len(all_letters)):\n",
    "    dict[all_letters[i]] = all_letters[(i - key) % len(all_letters)]\n"
   ]
  },
  {
   "cell_type": "code",
   "execution_count": 6,
   "id": "d1453066",
   "metadata": {},
   "outputs": [
    {
     "data": {
      "text/plain": [
       "{'a': 'X',\n",
       " 'b': 'Y',\n",
       " 'c': 'Z',\n",
       " 'd': 'a',\n",
       " 'e': 'b',\n",
       " 'f': 'c',\n",
       " 'g': 'd',\n",
       " 'h': 'e',\n",
       " 'i': 'f',\n",
       " 'j': 'g',\n",
       " 'k': 'h',\n",
       " 'l': 'i',\n",
       " 'm': 'j',\n",
       " 'n': 'k',\n",
       " 'o': 'l',\n",
       " 'p': 'm',\n",
       " 'q': 'n',\n",
       " 'r': 'o',\n",
       " 's': 'p',\n",
       " 't': 'q',\n",
       " 'u': 'r',\n",
       " 'v': 's',\n",
       " 'w': 't',\n",
       " 'x': 'u',\n",
       " 'y': 'v',\n",
       " 'z': 'w',\n",
       " 'A': 'x',\n",
       " 'B': 'y',\n",
       " 'C': 'z',\n",
       " 'D': 'A',\n",
       " 'E': 'B',\n",
       " 'F': 'C',\n",
       " 'G': 'D',\n",
       " 'H': 'E',\n",
       " 'I': 'F',\n",
       " 'J': 'G',\n",
       " 'K': 'H',\n",
       " 'L': 'I',\n",
       " 'M': 'J',\n",
       " 'N': 'K',\n",
       " 'O': 'L',\n",
       " 'P': 'M',\n",
       " 'Q': 'N',\n",
       " 'R': 'O',\n",
       " 'S': 'P',\n",
       " 'T': 'Q',\n",
       " 'U': 'R',\n",
       " 'V': 'S',\n",
       " 'W': 'T',\n",
       " 'X': 'U',\n",
       " 'Y': 'V',\n",
       " 'Z': 'W'}"
      ]
     },
     "execution_count": 6,
     "metadata": {},
     "output_type": "execute_result"
    }
   ],
   "source": [
    "dict\n"
   ]
  },
  {
   "cell_type": "code",
   "execution_count": 7,
   "id": "9923d5dd",
   "metadata": {},
   "outputs": [],
   "source": [
    "decrypt_text = []\n"
   ]
  },
  {
   "cell_type": "code",
   "execution_count": 8,
   "id": "8c9ace0f",
   "metadata": {},
   "outputs": [],
   "source": [
    "cipher_text = 'Sudfwlfdo 3D'\n"
   ]
  },
  {
   "cell_type": "code",
   "execution_count": 9,
   "id": "f1d5f83a",
   "metadata": {},
   "outputs": [],
   "source": [
    "for char in cipher_text:\n",
    "    if char in all_letters:\n",
    "        temp = dict[char]\n",
    "        decrypt_text.append(temp)\n",
    "    else:\n",
    "        temp = char\n",
    "        decrypt_text.append(temp)"
   ]
  },
  {
   "cell_type": "code",
   "execution_count": 10,
   "id": "430d0fc3",
   "metadata": {},
   "outputs": [
    {
     "data": {
      "text/plain": [
       "'Practical 3A'"
      ]
     },
     "execution_count": 10,
     "metadata": {},
     "output_type": "execute_result"
    }
   ],
   "source": [
    "decrypted_text = \"\".join(decrypt_text)\n",
    "decrypted_text"
   ]
  },
  {
   "cell_type": "code",
   "execution_count": null,
   "id": "f4c01b07",
   "metadata": {},
   "outputs": [],
   "source": []
  }
 ],
 "metadata": {
  "kernelspec": {
   "display_name": "Python 3 (ipykernel)",
   "language": "python",
   "name": "python3"
  },
  "language_info": {
   "codemirror_mode": {
    "name": "ipython",
    "version": 3
   },
   "file_extension": ".py",
   "mimetype": "text/x-python",
   "name": "python",
   "nbconvert_exporter": "python",
   "pygments_lexer": "ipython3",
   "version": "3.10.8"
  }
 },
 "nbformat": 4,
 "nbformat_minor": 5
}
