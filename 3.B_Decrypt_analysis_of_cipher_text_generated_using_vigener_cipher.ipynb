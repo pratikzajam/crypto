{
 "cells": [
  {
   "cell_type": "code",
   "execution_count": 1,
   "id": "2d83b372",
   "metadata": {},
   "outputs": [],
   "source": [
    "def generateKey(string, key):\n",
    "    key = list(key)\n",
    "    if(len(string) == len(key)):\n",
    "        return(key)\n",
    "    else:\n",
    "        for i in range(len(string) - len(key)):\n",
    "            key.append(key[i % len(key)])\n",
    "    return(\"\".join(key))\n"
   ]
  },
  {
   "cell_type": "code",
   "execution_count": 4,
   "id": "98f2c166",
   "metadata": {},
   "outputs": [
    {
     "data": {
      "text/plain": [
       "'college'"
      ]
     },
     "execution_count": 4,
     "metadata": {},
     "output_type": "execute_result"
    }
   ],
   "source": [
    "answer = generateKey('Kirti', 'college')\n",
    "answer\n"
   ]
  },
  {
   "cell_type": "code",
   "execution_count": 5,
   "id": "a80b3ebc",
   "metadata": {},
   "outputs": [
    {
     "data": {
      "text/plain": [
       "'kirti'"
      ]
     },
     "execution_count": 5,
     "metadata": {},
     "output_type": "execute_result"
    }
   ],
   "source": [
    "string = 'kirti'\n",
    "string"
   ]
  },
  {
   "cell_type": "code",
   "execution_count": 7,
   "id": "5fc502e1",
   "metadata": {},
   "outputs": [
    {
     "data": {
      "text/plain": [
       "'college'"
      ]
     },
     "execution_count": 7,
     "metadata": {},
     "output_type": "execute_result"
    }
   ],
   "source": [
    "key = 'college'\n",
    "key"
   ]
  },
  {
   "cell_type": "code",
   "execution_count": 11,
   "id": "76093489",
   "metadata": {},
   "outputs": [
    {
     "data": {
      "text/plain": [
       "'collegecolleg'"
      ]
     },
     "execution_count": 11,
     "metadata": {},
     "output_type": "execute_result"
    }
   ],
   "source": [
    "keyword = generateKey('GCYCZFMLYLEIM', key)\n",
    "keyword"
   ]
  },
  {
   "cell_type": "code",
   "execution_count": 8,
   "id": "ef295155",
   "metadata": {},
   "outputs": [
    {
     "data": {
      "text/plain": [
       "'GCYCZFMLYLEIM'"
      ]
     },
     "execution_count": 8,
     "metadata": {},
     "output_type": "execute_result"
    }
   ],
   "source": [
    "cipher_text = 'GCYCZFMLYLEIM'\n",
    "cipher_text\n"
   ]
  },
  {
   "cell_type": "code",
   "execution_count": 9,
   "id": "6e0caf4b",
   "metadata": {},
   "outputs": [],
   "source": [
    "def decrypt_cipher(cipher_text, key):\n",
    "    decrypted_text = []\n",
    "    for i in range(len(cipher_text)):\n",
    "        x = (ord(cipher_text[i]) - ord(key[i]) + 26) % 26\n",
    "        x += ord('A')\n",
    "        decrypted_text.append(chr(x))\n",
    "    return(\"\".join(decrypted_text))\n"
   ]
  },
  {
   "cell_type": "code",
   "execution_count": 12,
   "id": "e935de70",
   "metadata": {},
   "outputs": [
    {
     "data": {
      "text/plain": [
       "'YIHLPTCDEUNYA'"
      ]
     },
     "execution_count": 12,
     "metadata": {},
     "output_type": "execute_result"
    }
   ],
   "source": [
    "decrypt_text = decrypt_cipher(cipher_text, keyword)\n",
    "decrypt_text"
   ]
  },
  {
   "cell_type": "code",
   "execution_count": null,
   "id": "32c98e30",
   "metadata": {},
   "outputs": [],
   "source": []
  }
 ],
 "metadata": {
  "kernelspec": {
   "display_name": "Python 3 (ipykernel)",
   "language": "python",
   "name": "python3"
  },
  "language_info": {
   "codemirror_mode": {
    "name": "ipython",
    "version": 3
   },
   "file_extension": ".py",
   "mimetype": "text/x-python",
   "name": "python",
   "nbconvert_exporter": "python",
   "pygments_lexer": "ipython3",
   "version": "3.10.8"
  }
 },
 "nbformat": 4,
 "nbformat_minor": 5
}
