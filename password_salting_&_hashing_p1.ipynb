{
 "cells": [
  {
   "cell_type": "code",
   "execution_count": null,
   "id": "2ae134fd",
   "metadata": {},
   "outputs": [],
   "source": [
    "import bcrypt"
   ]
  },
  {
   "cell_type": "code",
   "execution_count": 14,
   "id": "ad3292f0",
   "metadata": {},
   "outputs": [
    {
     "name": "stdout",
     "output_type": "stream",
     "text": [
      "Enter Password:Pratikzajam999\n"
     ]
    },
    {
     "data": {
      "text/plain": [
       "b'Pratikzajam999'"
      ]
     },
     "execution_count": 14,
     "metadata": {},
     "output_type": "execute_result"
    }
   ],
   "source": [
    "password = input('Enter Password:')\n",
    "pw = bytes(password, 'UTF-8')\n",
    "pw"
   ]
  },
  {
   "cell_type": "code",
   "execution_count": 15,
   "id": "0f4fa8b1",
   "metadata": {},
   "outputs": [],
   "source": [
    "salt = bcrypt.gensalt()"
   ]
  },
  {
   "cell_type": "code",
   "execution_count": 26,
   "id": "930ca81d",
   "metadata": {},
   "outputs": [],
   "source": [
    "hashed_pw = bcrypt.hashpw(pw,salt)"
   ]
  },
  {
   "cell_type": "code",
   "execution_count": 27,
   "id": "9f862562",
   "metadata": {},
   "outputs": [
    {
     "name": "stdout",
     "output_type": "stream",
     "text": [
      "Password b'Pratikzajam999' Its salted hash is b'$2b$12$SOfQC6V8BJD1WZLnwwiYi.HjAKhq5J/iUmx0Ytq7BjsqVI2yuaxbm'\n"
     ]
    }
   ],
   "source": [
    "print('Password',pw,'Its salted hash is',hashed_pw)"
   ]
  }
 ],
 "metadata": {
  "kernelspec": {
   "display_name": "Python 3.9.10 64-bit ('3.9.10')",
   "language": "python",
   "name": "python3"
  },
  "language_info": {
   "codemirror_mode": {
    "name": "ipython",
    "version": 3
   },
   "file_extension": ".py",
   "mimetype": "text/x-python",
   "name": "python",
   "nbconvert_exporter": "python",
   "pygments_lexer": "ipython3",
   "version": "3.9.10"
  },
  "vscode": {
   "interpreter": {
    "hash": "b879c2641c497207f097bc2f2ea0b5d6b198b34d3004851a7ff963bde629d615"
   }
  }
 },
 "nbformat": 4,
 "nbformat_minor": 5
}
